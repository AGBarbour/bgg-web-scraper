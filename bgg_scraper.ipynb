{
 "cells": [
  {
   "cell_type": "code",
   "execution_count": 473,
   "metadata": {},
   "outputs": [],
   "source": [
    "from splinter import Browser\n",
    "from bs4 import BeautifulSoup\n",
    "import pandas as pd\n",
    "from selenium import webdriver\n",
    "import string\n",
    "import re"
   ]
  },
  {
   "cell_type": "code",
   "execution_count": 349,
   "metadata": {},
   "outputs": [],
   "source": [
    "executable_path = {'executable_path': 'chromedriver.exe'}\n",
    "browser = Browser('chrome', **executable_path, headless=False)"
   ]
  },
  {
   "cell_type": "code",
   "execution_count": 350,
   "metadata": {},
   "outputs": [],
   "source": [
    "url = 'https://boardgamegeek.com/browse/boardgame'\n",
    "browser.visit(url)"
   ]
  },
  {
   "cell_type": "code",
   "execution_count": 351,
   "metadata": {},
   "outputs": [],
   "source": [
    "html = browser.html\n",
    "soup = BeautifulSoup(html, 'html.parser')"
   ]
  },
  {
   "cell_type": "code",
   "execution_count": 380,
   "metadata": {},
   "outputs": [
    {
     "data": {
      "text/plain": [
       "100"
      ]
     },
     "execution_count": 380,
     "metadata": {},
     "output_type": "execute_result"
    }
   ],
   "source": [
    "table = soup.find(\"table\", class_=\"collection_table\")\n",
    "rows = table.findAll('tr', id=\"row_\")\n",
    "len(rows)"
   ]
  },
  {
   "cell_type": "code",
   "execution_count": 396,
   "metadata": {},
   "outputs": [],
   "source": [
    "# collecting basic stats from the top 100 table\n",
    "game_list = []\n",
    "for row in rows:\n",
    "    \n",
    "    thumbnail = row.find(\"td\", class_=\"collection_thumbnail\")\n",
    "    img = thumbnail.img[\"src\"]\n",
    "    url = \"https://boardgamegeek.com\" + thumbnail.a[\"href\"]\n",
    "    name = thumbnail.a[\"href\"].split(\"/\")[3].replace(\"-\", \" \")\n",
    "    name = string.capwords(name) #   the title() method capitalized 7th to 7Th\n",
    "    rank = row.find(\"td\", class_=\"collection_rank\").a[\"name\"]\n",
    "    rating = row.findAll(\"td\", class_=\"collection_bggrating\")\n",
    "    list_price = row.find(\"td\", class_=\"collection_shop\").div.text.split(\" \")[0][12:18].strip()\n",
    "    try: \n",
    "        lwst_amzn = row.find(\"td\", class_=\"collection_shop\").div.text.split(\" \")[1][9:16].strip()\n",
    "    except:\n",
    "        lwst_amzn = None\n",
    "        \n",
    "    game_list.append({\n",
    "        \"name\": name,\n",
    "        \"rank\": rank,\n",
    "        \"ratings\": {\n",
    "            \"geek_rating\": rating[0].text.strip(),\n",
    "            \"avg_rating\": rating[1].text.strip(),\n",
    "            \"num_voters\": rating[2].text.strip()\n",
    "                   },\n",
    "        \"MSRP\": list_price,\n",
    "        \"lowest_amazon\": lwst_amzn,\n",
    "        \"image\": img,\n",
    "        \"url\": url\n",
    "    })\n",
    "#     print(name)\n",
    "#     print(\"-\"*80)\n",
    "\n",
    "# print(game_list)"
   ]
  },
  {
   "cell_type": "code",
   "execution_count": 563,
   "metadata": {},
   "outputs": [
    {
     "name": "stdout",
     "output_type": "stream",
     "text": [
      "<ul> <li><div class=\"game-header-loading-bar col-xs-7\"> </div></li> <li><div class=\"game-header-loading-bar col-xs-6\"> </div></li> <li><div class=\"game-header-loading-bar col-xs-3\"> </div></li> <li><div class=\"game-header-loading-bar col-xs-9\"> </div></li> <li><div class=\"game-header-loading-bar col-xs-7\"> </div></li> </ul>\n"
     ]
    }
   ],
   "source": [
    "# experimenting with regex\n",
    "for game in game_list[0:1]:\n",
    "    url = game[\"url\"]\n",
    "    browser.visit(url)\n",
    "    html = browser.html\n",
    "    soup = BeautifulSoup(html, 'lxml')\n",
    "    header = soup.findAll(\"div\", class_=\"game-header-title-info\")[1]\n",
    "    name = header.text.split(\"(\")[0].strip()\n",
    "#     name = re.findall(r'[A-Z][a-z]+', header)\n",
    "    year = re.findall(r'\\d{4}', header.text)[0]\n",
    "    gameplay = soup.findAll(\"li\", class_=\"gameplay-item\")\n",
    "    player_count = gameplay[0].span.text\n",
    "    playing_time = gameplay[1].span.text\n",
    "    weight = gameplay[3].findAll(\"span\")[2].text.strip()\n",
    "    credits = soup.findAll(\"div\", class_=\"credits\")[0].ul\n",
    "    print(credits)"
   ]
  },
  {
   "cell_type": "code",
   "execution_count": 391,
   "metadata": {},
   "outputs": [],
   "source": [
    "games_df = pd.DataFrame(game_list)\n",
    "# games_df.head()"
   ]
  },
  {
   "cell_type": "code",
   "execution_count": 393,
   "metadata": {},
   "outputs": [],
   "source": [
    "url = 'https://boardgamegeek.com/browse/boardgame'\n",
    "tables = pd.read_html(url)"
   ]
  },
  {
   "cell_type": "code",
   "execution_count": 394,
   "metadata": {},
   "outputs": [
    {
     "data": {
      "text/html": [
       "<div>\n",
       "<style scoped>\n",
       "    .dataframe tbody tr th:only-of-type {\n",
       "        vertical-align: middle;\n",
       "    }\n",
       "\n",
       "    .dataframe tbody tr th {\n",
       "        vertical-align: top;\n",
       "    }\n",
       "\n",
       "    .dataframe thead th {\n",
       "        text-align: right;\n",
       "    }\n",
       "</style>\n",
       "<table border=\"1\" class=\"dataframe\">\n",
       "  <thead>\n",
       "    <tr style=\"text-align: right;\">\n",
       "      <th></th>\n",
       "      <th>Board Game Rank</th>\n",
       "      <th>Title</th>\n",
       "      <th>Geek Rating</th>\n",
       "      <th>Avg Rating</th>\n",
       "      <th>Num Voters</th>\n",
       "    </tr>\n",
       "  </thead>\n",
       "  <tbody>\n",
       "    <tr>\n",
       "      <th>1</th>\n",
       "      <td>1</td>\n",
       "      <td>Gloomhaven  (2017)</td>\n",
       "      <td>8.614</td>\n",
       "      <td>8.92</td>\n",
       "      <td>22829</td>\n",
       "    </tr>\n",
       "    <tr>\n",
       "      <th>2</th>\n",
       "      <td>2</td>\n",
       "      <td>Pandemic Legacy: Season 1  (2015)</td>\n",
       "      <td>8.492</td>\n",
       "      <td>8.65</td>\n",
       "      <td>29984</td>\n",
       "    </tr>\n",
       "    <tr>\n",
       "      <th>3</th>\n",
       "      <td>3</td>\n",
       "      <td>Through the Ages: A New Story of Civilization ...</td>\n",
       "      <td>8.270</td>\n",
       "      <td>8.55</td>\n",
       "      <td>14964</td>\n",
       "    </tr>\n",
       "    <tr>\n",
       "      <th>4</th>\n",
       "      <td>4</td>\n",
       "      <td>Terraforming Mars  (2016)</td>\n",
       "      <td>8.233</td>\n",
       "      <td>8.40</td>\n",
       "      <td>35939</td>\n",
       "    </tr>\n",
       "    <tr>\n",
       "      <th>5</th>\n",
       "      <td>5</td>\n",
       "      <td>Twilight Struggle  (2005)</td>\n",
       "      <td>8.179</td>\n",
       "      <td>8.33</td>\n",
       "      <td>33648</td>\n",
       "    </tr>\n",
       "  </tbody>\n",
       "</table>\n",
       "</div>"
      ],
      "text/plain": [
       "0 Board Game Rank                                              Title  \\\n",
       "1               1                                 Gloomhaven  (2017)   \n",
       "2               2                  Pandemic Legacy: Season 1  (2015)   \n",
       "3               3  Through the Ages: A New Story of Civilization ...   \n",
       "4               4                          Terraforming Mars  (2016)   \n",
       "5               5                          Twilight Struggle  (2005)   \n",
       "\n",
       "0 Geek Rating Avg Rating Num Voters  \n",
       "1       8.614       8.92      22829  \n",
       "2       8.492       8.65      29984  \n",
       "3       8.270       8.55      14964  \n",
       "4       8.233       8.40      35939  \n",
       "5       8.179       8.33      33648  "
      ]
     },
     "execution_count": 394,
     "metadata": {},
     "output_type": "execute_result"
    }
   ],
   "source": [
    "df = tables[5]\n",
    "df.columns = df.iloc[0]\n",
    "df = df.drop([0])\n",
    "df = df.drop(columns=['Shop'])\n",
    "df = df.dropna(axis='columns')\n",
    "df.head()"
   ]
  },
  {
   "cell_type": "code",
   "execution_count": 395,
   "metadata": {},
   "outputs": [],
   "source": [
    "df[\"Publication Year\"] = df[\"Title\"].str.split(\"(\", 1).str[1].str[0:4]\n",
    "df[\"Title\"] = df[\"Title\"].str.split(\"(\", 1).str[0]\n",
    "# df.head()"
   ]
  },
  {
   "cell_type": "code",
   "execution_count": 387,
   "metadata": {},
   "outputs": [],
   "source": [
    "# Regex Scrapping\n",
    "# \"IDENTIFIERS:\n",
    "\n",
    "# \\ used to escape a character\n",
    "# \\d any number\n",
    "# \\D anything but a number\n",
    "# \\s space\n",
    "# \\S anything but a space\n",
    "# \\w any character\n",
    "# \\W anything but a character\n",
    "# . any character except a new line\n",
    "# \\. actually a period\"\n",
    "# \\b whitespace around words\n",
    "\n",
    "# MODIFIERS:\n",
    "      \n",
    "# {1,3} we're expecting 1-3\n",
    "# + Match 1 or more\n",
    "# ? Match 0 or 1\n",
    "# * Match 0 or more\n",
    "# $ match the end of a string\n",
    "# ^ match the beginning of a string\n",
    "# | matches either or e.g. \\d{1-3}|\\w{5-6}\n",
    "# [] Match range or 'variance' e.g. [A-Za-z] or [1-5a-qA-Z]\n",
    "# {x} expecting 'x' amount\n",
    "\n",
    "# WHITE SPACE CHARACTERS:\n",
    "# \\n new line\n",
    "# \\s space\n",
    "# \\t tab\n",
    "# \\e escape (rare)\n",
    "# \\f form feed (rare)\n",
    "# \\r return\n",
    "      \n",
    "# DON'T FORGET!:\n",
    "# . + * ? [ ] $ ^ ( ) { } \\ |\n",
    " "
   ]
  },
  {
   "cell_type": "code",
   "execution_count": null,
   "metadata": {},
   "outputs": [],
   "source": []
  },
  {
   "cell_type": "code",
   "execution_count": null,
   "metadata": {},
   "outputs": [],
   "source": []
  }
 ],
 "metadata": {
  "kernelspec": {
   "display_name": "Python [conda env:Anaconda3]",
   "language": "python",
   "name": "conda-env-Anaconda3-py"
  },
  "language_info": {
   "codemirror_mode": {
    "name": "ipython",
    "version": 3
   },
   "file_extension": ".py",
   "mimetype": "text/x-python",
   "name": "python",
   "nbconvert_exporter": "python",
   "pygments_lexer": "ipython3",
   "version": "3.6.4"
  }
 },
 "nbformat": 4,
 "nbformat_minor": 2
}
